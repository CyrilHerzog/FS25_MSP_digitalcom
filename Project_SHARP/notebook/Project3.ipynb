{
 "cells": [
  {
   "cell_type": "markdown",
   "id": "108aa782",
   "metadata": {},
   "source": [
    "# Project SHARP: Spectral Handling and Adaptive Rejection of Power (Noise)\n",
    "\n",
    "**Objective:** Explore how pulse shaping affects spectrum and noise suppression."
   ]
  },
  {
   "cell_type": "markdown",
   "id": "f57c921a",
   "metadata": {},
   "source": [
    "## 1. Import Required Libraries"
   ]
  },
  {
   "cell_type": "code",
   "execution_count": null,
   "id": "909497d1",
   "metadata": {},
   "outputs": [],
   "source": [
    "import numpy as np\n",
    "import matplotlib.pyplot as plt\n",
    "from pysdr import digital, spectrum\n",
    "\n",
    "# Custom utils\n",
    "import sys\n",
    "sys.path.append('../src')\n",
    "from utils import *"
   ]
  },
  {
   "cell_type": "markdown",
   "id": "9a3914c5",
   "metadata": {},
   "source": [
    "## 2. Generate QPSK Modulated Signal"
   ]
  },
  {
   "cell_type": "code",
   "execution_count": null,
   "id": "337fc1dc",
   "metadata": {},
   "outputs": [],
   "source": [
    "# TODO: Generate random bits and QPSK modulated symbols\n",
    "bits = np.random.randint(0, 2, 2000)\n",
    "qpsk_symbols = digital.psk_modulate(bits, M=4)  # QPSK modulation\n",
    "\n",
    "plt.figure()\n",
    "plt.scatter(qpsk_symbols.real, qpsk_symbols.imag, alpha=0.5)\n",
    "plt.title('QPSK Constellation')\n",
    "plt.grid()\n",
    "plt.show()\n"
   ]
  },
  {
   "cell_type": "markdown",
   "id": "2ce62a78",
   "metadata": {},
   "source": [
    "## 3. Plot Power Spectral Density (PSD) Before Pulse Shaping"
   ]
  },
  {
   "cell_type": "code",
   "execution_count": null,
   "id": "2e3a1105",
   "metadata": {},
   "outputs": [],
   "source": [
    "spectrum.plot_psd(qpsk_symbols, title='QPSK PSD Before Pulse Shaping', Fs=1.0)"
   ]
  },
  {
   "cell_type": "markdown",
   "id": "f7c8c3e8",
   "metadata": {},
   "source": [
    "## 4. Apply Root-Raised Cosine (RRC) Filter and Plot PSD"
   ]
  },
  {
   "cell_type": "code",
   "execution_count": null,
   "id": "1e0533fb",
   "metadata": {},
   "outputs": [],
   "source": [
    "# TODO: Apply RRC filter using PySDR or custom implementation\n",
    "# Example (PySDR pulse shaping):\n",
    "rrc_filtered = digital.rrcosfilter(qpsk_symbols, beta=0.25, sps=8)\n",
    "\n",
    "plt.figure()\n",
    "plt.plot(np.real(rrc_filtered[:500]))\n",
    "plt.title('RRC Filtered Signal (Real Part)')\n",
    "plt.grid()\n",
    "plt.show()\n",
    "\n",
    "# PSD after shaping\n",
    "spectrum.plot_psd(rrc_filtered, title='QPSK PSD After Pulse Shaping', Fs=1.0)"
   ]
  },
  {
   "cell_type": "markdown",
   "id": "2a3bd741",
   "metadata": {},
   "source": [
    "## 5. Reflection\n",
    "- How does pulse shaping improve spectral efficiency and noise suppression?\n",
    "- Applications in LTE, WiFi, etc."
   ]
  }
 ],
 "metadata": {
  "language_info": {
   "name": "python"
  }
 },
 "nbformat": 4,
 "nbformat_minor": 5
}
