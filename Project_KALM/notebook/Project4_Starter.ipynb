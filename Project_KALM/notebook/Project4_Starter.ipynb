{
 "cells": [
  {
   "cell_type": "markdown",
   "id": "26f189fa",
   "metadata": {},
   "source": [
    "# Project KALM: Kalman-based Adaptive Linear Modeling\n",
    "\n",
    "**Objective:** Use a Kalman filter to estimate a clean, time-varying random signal from noisy measurements.\n",
    "\n",
    "This notebook leverages **PySDR** for noise generation and analysis.\n"
   ]
  },
  {
   "cell_type": "markdown",
   "id": "08c2aa12",
   "metadata": {},
   "source": [
    "## 1. Import Required Libraries"
   ]
  },
  {
   "cell_type": "code",
   "execution_count": null,
   "id": "df1c3f23",
   "metadata": {},
   "outputs": [],
   "source": [
    "import numpy as np\n",
    "import matplotlib.pyplot as plt\n",
    "from pysdr import spectrum\n",
    "\n",
    "# Custom utils\n",
    "import sys\n",
    "sys.path.append('../src')\n",
    "from utils import *"
   ]
  },
  {
   "cell_type": "markdown",
   "id": "d7086f20",
   "metadata": {},
   "source": [
    "## 2. Simulate Time-Varying Noisy Signal"
   ]
  },
  {
   "cell_type": "code",
   "execution_count": null,
   "id": "21d5960a",
   "metadata": {},
   "outputs": [],
   "source": [
    "# TODO: Simulate a random walk (or similar) dynamic process\n",
    "N = 500\n",
    "clean_signal = np.cumsum(np.random.normal(0, 0.1, N))  # random walk\n",
    "\n",
    "# Add noise\n",
    "noisy_signal = add_awgn_noise(clean_signal, snr_db=5)\n",
    "\n",
    "plt.figure()\n",
    "plt.plot(clean_signal, label='Clean')\n",
    "plt.plot(noisy_signal, label='Noisy', alpha=0.7)\n",
    "plt.legend()\n",
    "plt.title('Clean vs Noisy Signal')\n",
    "plt.grid()\n",
    "plt.show()"
   ]
  },
  {
   "cell_type": "markdown",
   "id": "347bd5e5",
   "metadata": {},
   "source": [
    "## 3. Implement Kalman Filter"
   ]
  },
  {
   "cell_type": "code",
   "execution_count": null,
   "id": "466061b4",
   "metadata": {},
   "outputs": [],
   "source": [
    "# TODO: Implement a simple Kalman filter for 1D tracking\n",
    "# Initialize variables\n",
    "x_est = np.zeros(N)\n",
    "P = np.zeros(N)\n",
    "Q = 0.01  # process noise covariance\n",
    "R = 0.1   # measurement noise covariance\n",
    "x_est[0] = noisy_signal[0]\n",
    "P[0] = 1\n",
    "\n",
    "for k in range(1, N):\n",
    "    # Predict\n",
    "    x_pred = x_est[k-1]\n",
    "    P_pred = P[k-1] + Q\n",
    "\n",
    "    # Update\n",
    "    K = P_pred / (P_pred + R)\n",
    "    x_est[k] = x_pred + K * (noisy_signal[k] - x_pred)\n",
    "    P[k] = (1 - K) * P_pred\n",
    "\n",
    "plt.figure()\n",
    "plt.plot(clean_signal, label='Clean')\n",
    "plt.plot(noisy_signal, label='Noisy', alpha=0.5)\n",
    "plt.plot(x_est, label='Kalman Estimate', linewidth=2)\n",
    "plt.legend()\n",
    "plt.title('Kalman Filter Tracking')\n",
    "plt.grid()\n",
    "plt.show()"
   ]
  },
  {
   "cell_type": "markdown",
   "id": "26a0bd9f",
   "metadata": {},
   "source": [
    "## 4. Error Convergence Visualization"
   ]
  },
  {
   "cell_type": "code",
   "execution_count": null,
   "id": "b0cc85bb",
   "metadata": {},
   "outputs": [],
   "source": [
    "error = clean_signal - x_est\n",
    "plt.figure()\n",
    "plt.plot(error)\n",
    "plt.title('Estimation Error')\n",
    "plt.grid()\n",
    "plt.show()"
   ]
  },
  {
   "cell_type": "markdown",
   "id": "e147abaa",
   "metadata": {},
   "source": [
    "## 5. Reflection\n",
    "- How does the Kalman filter adapt to the noisy measurements?\n",
    "- Real-world applications: tracking, sensor fusion, etc."
   ]
  }
 ],
 "metadata": {
  "language_info": {
   "name": "python"
  }
 },
 "nbformat": 4,
 "nbformat_minor": 5
}
