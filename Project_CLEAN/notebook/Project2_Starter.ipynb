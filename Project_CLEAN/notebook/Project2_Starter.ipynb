{
 "cells": [
  {
   "cell_type": "markdown",
   "id": "a5c5eb3b",
   "metadata": {},
   "source": [
    "# Project CLEAN: Communication Link Estimation & Adaptive Noise-reduction\n",
    "\n",
    "**Objective:** Use LMS and RLS adaptive filters to recover a clean signal from noise.\n",
    "\n",
    "This notebook can leverages example of **PySDR** available at :\n",
    "https://github.com/777arc/PySDR/tree/ba4f470767bbd5b460217ec2f78ade82845c15e8/figure-generating-scripts\n",
    "\n",
    "**Tasks:**\n",
    "- Generate noisy signal : https://pysdr.org/content/noise.html\n",
    "- Apply LMS and RLS filters : see /src\n",
    "- Compare performance and convergence"
   ]
  },
  {
   "cell_type": "markdown",
   "id": "66c450fc",
   "metadata": {},
   "source": [
    "## 1. Import Libraries"
   ]
  },
  {
   "cell_type": "code",
   "execution_count": null,
   "id": "f998e31f",
   "metadata": {},
   "outputs": [],
   "source": [
    "!python --version\n",
    "!pip install -r ../requirements.txt"
   ]
  },
  {
   "cell_type": "code",
   "execution_count": null,
   "id": "55b69ece",
   "metadata": {},
   "outputs": [],
   "source": [
    "import numpy as np\n",
    "import matplotlib.pyplot as plt\n",
    "\n",
    "# Custom utils\n",
    "import sys\n",
    "sys.path.append('../src')\n",
    "from utils import *"
   ]
  },
  {
   "cell_type": "markdown",
   "id": "510191cd",
   "metadata": {},
   "source": [
    "## 2. Generate Noisy Signal\n",
    "- Clean reference: sine wave\n",
    "- Add Gaussian noise using PySDR example"
   ]
  },
  {
   "cell_type": "code",
   "execution_count": null,
   "id": "ba183179",
   "metadata": {},
   "outputs": [],
   "source": [
    "Fs = 1000  # Sampling frequency\n",
    "T = 1  # seconds\n",
    "t = np.linspace(0, T, int(T*Fs), endpoint=False)\n",
    "clean_signal = np.sin(2 * np.pi * 50 * t)  # 50 Hz sine wave\n",
    "\n",
    "# TODO: Adapt to the signal you are interested in (e.g modulated information)\n",
    "\n",
    "# Add noise\n",
    "noisy_signal = add_awgn_noise(clean_signal, snr_db=5)\n",
    "\n",
    "plt.figure()\n",
    "plt.plot(t[:500], noisy_signal[:500], label='Noisy')\n",
    "plt.plot(t[:500], clean_signal[:500], label='Clean', alpha=0.7)\n",
    "plt.legend()\n",
    "plt.title('Noisy vs Clean Signal')\n",
    "plt.grid()\n",
    "plt.show()"
   ]
  },
  {
   "cell_type": "markdown",
   "id": "8cd983e6",
   "metadata": {},
   "source": [
    "## 3. LMS Adaptive Filtering"
   ]
  },
  {
   "cell_type": "code",
   "execution_count": null,
   "id": "2315ee2b",
   "metadata": {},
   "outputs": [],
   "source": [
    "# TODO: Implement LMS filter (example skeleton)\n",
    "mu = 0.01  # Step size\n",
    "N = len(noisy_signal)\n",
    "w = np.zeros(N)\n",
    "e = np.zeros(N)\n",
    "y = np.zeros(N)\n",
    "\n",
    "for n in range(1, N):\n",
    "    y[n] = w[n-1] * noisy_signal[n-1]\n",
    "    e[n] = clean_signal[n] - y[n]\n",
    "    w[n] = w[n-1] + 2 * mu * e[n] * noisy_signal[n-1]\n",
    "\n",
    "plt.figure()\n",
    "plt.plot(e, label='Error (LMS)')\n",
    "plt.title('LMS Filter Error Convergence')\n",
    "plt.grid()\n",
    "plt.show()"
   ]
  },
  {
   "cell_type": "markdown",
   "id": "a2ac02c6",
   "metadata": {},
   "source": [
    "## 4. RLS Adaptive Filtering"
   ]
  },
  {
   "cell_type": "code",
   "execution_count": null,
   "id": "a0ea851a",
   "metadata": {},
   "outputs": [],
   "source": [
    "# TODO: Implement RLS filter or use PySDR’s RLS tools\n",
    "# This is a placeholder for students to fill in."
   ]
  },
  {
   "cell_type": "code",
   "execution_count": null,
   "id": "749918b2",
   "metadata": {},
   "outputs": [],
   "source": [
    "# TODO: Benchmark the approach"
   ]
  },
  {
   "cell_type": "markdown",
   "id": "a21aa92f",
   "metadata": {},
   "source": [
    "## 5. Comparison and Reflection\n",
    "- Which filter converged faster?\n",
    "- Final noise reduction difference?"
   ]
  }
 ],
 "metadata": {
  "kernelspec": {
   "display_name": "Python 3",
   "language": "python",
   "name": "python3"
  },
  "language_info": {
   "codemirror_mode": {
    "name": "ipython",
    "version": 3
   },
   "file_extension": ".py",
   "mimetype": "text/x-python",
   "name": "python",
   "nbconvert_exporter": "python",
   "pygments_lexer": "ipython3",
   "version": "3.12.10"
  }
 },
 "nbformat": 4,
 "nbformat_minor": 5
}
